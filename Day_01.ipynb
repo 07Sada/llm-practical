{
 "cells": [
  {
   "cell_type": "markdown",
   "id": "353c3b18",
   "metadata": {},
   "source": [
    "## Day 01"
   ]
  },
  {
   "cell_type": "code",
   "execution_count": 23,
   "id": "25c3e14b",
   "metadata": {},
   "outputs": [],
   "source": [
    "# importing the libaries\n",
    "import openai\n",
    "import os \n",
    "import requests\n",
    "from bs4 import BeautifulSoup\n",
    "from dotenv import load_dotenv\n",
    "from IPython.display import display, Markdown"
   ]
  },
  {
   "cell_type": "code",
   "execution_count": 5,
   "id": "a85952f1",
   "metadata": {},
   "outputs": [],
   "source": [
    "# load the environment variables from .env file\n",
    "load_dotenv()\n",
    "\n",
    "# set the OpenAI API key\n",
    "openai.api_key = os.getenv(\"OPENAI_API_KEY\")"
   ]
  },
  {
   "cell_type": "code",
   "execution_count": null,
   "id": "f7fc2eac",
   "metadata": {},
   "outputs": [
    {
     "name": "stdout",
     "output_type": "stream",
     "text": [
      "Hello! It's great to hear from you! How can I assist you today?\n"
     ]
    }
   ],
   "source": [
    "# Testing the OpenAI API with a simple message\n",
    "# This is a simple test to check if the OpenAI API is working correctly\n",
    "message = \"Hello, GPT! This is my first ever message to you! Hi!\"\n",
    "response = openai.chat.completions.create(model=\"gpt-4o-mini\", messages=[{\"role\":\"user\", \"content\":message}])\n",
    "print(response.choices[0].message.content)"
   ]
  },
  {
   "cell_type": "code",
   "execution_count": 7,
   "id": "d33f8787",
   "metadata": {},
   "outputs": [],
   "source": [
    "# Some websites need you to use proper headers when fetching them:\n",
    "headers = {\n",
    "    # The User-Agent header is used to identify the client making the request.\n",
    "    # This helps in mimicking a real browser to avoid being blocked by websites.\n",
    "    \"User-Agent\": \"Mozilla/5.0 (Windows NT 10.0; Win64; x64) AppleWebKit/537.36 (KHTML, like Gecko) Chrome/117.0.0.0 Safari/537.36\"\n",
    "}\n",
    "\n",
    "class Website:\n",
    "    def __init__(self, url):\n",
    "        \"\"\"\n",
    "        Initialize a Website object from the given URL using the BeautifulSoup library.\n",
    "        \n",
    "        Args:\n",
    "            url (str): The URL of the website to fetch and parse.\n",
    "        \"\"\"\n",
    "        self.url = url  # Store the URL of the website.\n",
    "\n",
    "        # Send an HTTP GET request to the URL with the specified headers.\n",
    "        response = requests.get(url, headers=headers)\n",
    "\n",
    "        # Parse the HTML content of the response using BeautifulSoup.\n",
    "        soup = BeautifulSoup(response.content, 'html.parser')\n",
    "\n",
    "        # Extract the title of the webpage, if available. If not, set it to \"No title found\".\n",
    "        self.title = soup.title.string if soup.title else \"No title found\"\n",
    "\n",
    "        # Remove irrelevant elements like <script>, <style>, <img>, and <input> from the body of the webpage.\n",
    "        for irrelevant in soup.body([\"script\", \"style\", \"img\", \"input\"]):\n",
    "            irrelevant.decompose()\n",
    "\n",
    "        # Extract the visible text from the body of the webpage, separating lines with a newline character.\n",
    "        self.text = soup.body.get_text(separator=\"\\n\", strip=True)"
   ]
  },
  {
   "cell_type": "code",
   "execution_count": null,
   "id": "0a6bcfab",
   "metadata": {},
   "outputs": [
    {
     "name": "stdout",
     "output_type": "stream",
     "text": [
      "Home - Edward Donner\n",
      "Home\n",
      "Connect Four\n",
      "Outsmart\n",
      "An arena that pits LLMs against each other in a battle of diplomacy and deviousness\n",
      "About\n",
      "Posts\n",
      "Well, hi there.\n",
      "I’m Ed. I like writing code and experimenting with LLMs, and hopefully you’re here because you do too. I also enjoy DJing (but I’m badly out of practice), amateur electronic music production (\n",
      "very\n",
      "amateur) and losing myself in\n",
      "Hacker News\n",
      ", nodding my head sagely to things I only half understand.\n",
      "I’m the co-founder and CTO of\n",
      "Nebula.io\n",
      ". We’re applying AI to a field where it can make a massive, positive impact: helping people discover their potential and pursue their reason for being. Recruiters use our product today to source, understand, engage and manage talent. I’m previously the founder and CEO of AI startup untapt,\n",
      "acquired in 2021\n",
      ".\n",
      "We work with groundbreaking, proprietary LLMs verticalized for talent, we’ve\n",
      "patented\n",
      "our matching model, and our award-winning platform has happy customers and tons of press coverage.\n",
      "Connect\n",
      "with me for more!\n",
      "April 21, 2025\n",
      "The Complete Agentic AI Engineering Course\n",
      "January 23, 2025\n",
      "LLM Workshop – Hands-on with Agents – resources\n",
      "December 21, 2024\n",
      "Welcome, SuperDataScientists!\n",
      "November 13, 2024\n",
      "Mastering AI and LLM Engineering – Resources\n",
      "Navigation\n",
      "Home\n",
      "Connect Four\n",
      "Outsmart\n",
      "An arena that pits LLMs against each other in a battle of diplomacy and deviousness\n",
      "About\n",
      "Posts\n",
      "Get in touch\n",
      "ed [at] edwarddonner [dot] com\n",
      "www.edwarddonner.com\n",
      "Follow me\n",
      "LinkedIn\n",
      "Twitter\n",
      "Facebook\n",
      "Subscribe to newsletter\n",
      "Type your email…\n",
      "Subscribe\n"
     ]
    }
   ],
   "source": [
    "# Let's try one out. Change the website and add print statements to follow along.\n",
    "ed = Website(\"https://edwarddonner.com\")\n",
    "print(ed.title)\n",
    "print(ed.text)"
   ]
  },
  {
   "cell_type": "markdown",
   "id": "05e49d78",
   "metadata": {},
   "source": [
    "### Types of prompts¶\n",
    "You may know this already - but if not, you will get very familiar with it!\n",
    "\n",
    "Models like GPT4o have been trained to receive instructions in a particular way.\n",
    "\n",
    "They expect to receive:\n",
    "\n",
    "A system prompt that tells them what task they are performing and what tone they should use\n",
    "\n",
    "A user prompt -- the conversation starter that they should reply to"
   ]
  },
  {
   "cell_type": "code",
   "execution_count": null,
   "id": "6d42e36f",
   "metadata": {},
   "outputs": [],
   "source": [
    "# Define our system prompt - you can experiment with this later, changing the last sentence to 'Respond in markdown in Spanish.\"\n",
    "system_prompt = \"You are an assistant that analyzes the contents of a website \\\n",
    "and provides a short summary, ignoring text that might be navigation related. \\\n",
    "Respond in markdown.\""
   ]
  },
  {
   "cell_type": "code",
   "execution_count": null,
   "id": "4b7d931b",
   "metadata": {},
   "outputs": [],
   "source": [
    "# A function that writes a User Prompt that asks for summaries of websites:\n",
    "def user_prompt_for(website):\n",
    "    user_prompt = f\"You are looking at a website titled {website.title}\"\n",
    "    user_prompt += \"\\nThe contents of this website is as follows; \\\n",
    "please provide a short summary of this website in markdown. \\\n",
    "If it includes news or announcements, then summarize these too.\\n\\n\"\n",
    "    user_prompt += website.text\n",
    "    return user_prompt"
   ]
  },
  {
   "cell_type": "code",
   "execution_count": 11,
   "id": "000b99b0",
   "metadata": {},
   "outputs": [
    {
     "name": "stdout",
     "output_type": "stream",
     "text": [
      "You are looking at a website titled Home - Edward Donner\n",
      "The contents of this website is as follows; please provide a short summary of this website in markdown. If it includes news or announcements, then summarize these too.\n",
      "\n",
      "Home\n",
      "Connect Four\n",
      "Outsmart\n",
      "An arena that pits LLMs against each other in a battle of diplomacy and deviousness\n",
      "About\n",
      "Posts\n",
      "Well, hi there.\n",
      "I’m Ed. I like writing code and experimenting with LLMs, and hopefully you’re here because you do too. I also enjoy DJing (but I’m badly out of practice), amateur electronic music production (\n",
      "very\n",
      "amateur) and losing myself in\n",
      "Hacker News\n",
      ", nodding my head sagely to things I only half understand.\n",
      "I’m the co-founder and CTO of\n",
      "Nebula.io\n",
      ". We’re applying AI to a field where it can make a massive, positive impact: helping people discover their potential and pursue their reason for being. Recruiters use our product today to source, understand, engage and manage talent. I’m previously the founder and CEO of AI startup untapt,\n",
      "acquired in 2021\n",
      ".\n",
      "We work with groundbreaking, proprietary LLMs verticalized for talent, we’ve\n",
      "patented\n",
      "our matching model, and our award-winning platform has happy customers and tons of press coverage.\n",
      "Connect\n",
      "with me for more!\n",
      "April 21, 2025\n",
      "The Complete Agentic AI Engineering Course\n",
      "January 23, 2025\n",
      "LLM Workshop – Hands-on with Agents – resources\n",
      "December 21, 2024\n",
      "Welcome, SuperDataScientists!\n",
      "November 13, 2024\n",
      "Mastering AI and LLM Engineering – Resources\n",
      "Navigation\n",
      "Home\n",
      "Connect Four\n",
      "Outsmart\n",
      "An arena that pits LLMs against each other in a battle of diplomacy and deviousness\n",
      "About\n",
      "Posts\n",
      "Get in touch\n",
      "ed [at] edwarddonner [dot] com\n",
      "www.edwarddonner.com\n",
      "Follow me\n",
      "LinkedIn\n",
      "Twitter\n",
      "Facebook\n",
      "Subscribe to newsletter\n",
      "Type your email…\n",
      "Subscribe\n"
     ]
    }
   ],
   "source": [
    "print(user_prompt_for(ed))"
   ]
  },
  {
   "cell_type": "markdown",
   "id": "0c3ae473",
   "metadata": {},
   "source": [
    "## Messages\n",
    "The API from OpenAI expects to receive messages in a particular structure. Many of the other APIs share this structure:\n",
    "\n",
    "```py\n",
    "[\n",
    "    {\"role\": \"system\", \"content\": \"system message goes here\"},\n",
    "    {\"role\": \"user\", \"content\": \"user message goes here\"}\n",
    "]\n",
    "```\n",
    "To give you a preview, the next 2 cells make a rather simple call - we won't stretch the mighty GPT (yet!)"
   ]
  },
  {
   "cell_type": "code",
   "execution_count": 16,
   "id": "2960b483",
   "metadata": {},
   "outputs": [],
   "source": [
    "messages = [\n",
    "    {'role': 'system', 'content': 'You are a snarky assistant'},\n",
    "    {'role': 'user', 'content': 'What is 2+2?'}\n",
    "]"
   ]
  },
  {
   "cell_type": "code",
   "execution_count": 17,
   "id": "ae770985",
   "metadata": {},
   "outputs": [
    {
     "name": "stdout",
     "output_type": "stream",
     "text": [
      "Well, if you’re asking me, it’s clearly 4. But let’s be real, in some alternate universe, it could be 5. Who knows? Math can be so mysterious!\n"
     ]
    }
   ],
   "source": [
    "# To give you a preview -- calling OpenAI with system and user messages:\n",
    "response = openai.chat.completions.create(model=\"gpt-4o-mini\", messages=messages)\n",
    "print(response.choices[0].message.content)"
   ]
  },
  {
   "cell_type": "markdown",
   "id": "78a00adc",
   "metadata": {},
   "source": [
    "### And now let's build useful messages for GPT-4o-mini, using a function"
   ]
  },
  {
   "cell_type": "code",
   "execution_count": 18,
   "id": "d31cbb9a",
   "metadata": {},
   "outputs": [],
   "source": [
    "def message_for(website):\n",
    "    return [\n",
    "        {'role': 'system', 'content': system_prompt},\n",
    "        {'role': 'user', 'content': user_prompt_for(website)}\n",
    "    ]"
   ]
  },
  {
   "cell_type": "code",
   "execution_count": 19,
   "id": "d3211711",
   "metadata": {},
   "outputs": [
    {
     "data": {
      "text/plain": [
       "[{'role': 'system',\n",
       "  'content': 'You are an assistant that analyzes the contents of a website and provides a short summary, ignoring text that might be navigation related. Respond in markdown.'},\n",
       " {'role': 'user',\n",
       "  'content': 'You are looking at a website titled Home - Edward Donner\\nThe contents of this website is as follows; please provide a short summary of this website in markdown. If it includes news or announcements, then summarize these too.\\n\\nHome\\nConnect Four\\nOutsmart\\nAn arena that pits LLMs against each other in a battle of diplomacy and deviousness\\nAbout\\nPosts\\nWell, hi there.\\nI’m Ed. I like writing code and experimenting with LLMs, and hopefully you’re here because you do too. I also enjoy DJing (but I’m badly out of practice), amateur electronic music production (\\nvery\\namateur) and losing myself in\\nHacker News\\n, nodding my head sagely to things I only half understand.\\nI’m the co-founder and CTO of\\nNebula.io\\n. We’re applying AI to a field where it can make a massive, positive impact: helping people discover their potential and pursue their reason for being. Recruiters use our product today to source, understand, engage and manage talent. I’m previously the founder and CEO of AI startup untapt,\\nacquired in 2021\\n.\\nWe work with groundbreaking, proprietary LLMs verticalized for talent, we’ve\\npatented\\nour matching model, and our award-winning platform has happy customers and tons of press coverage.\\nConnect\\nwith me for more!\\nApril 21, 2025\\nThe Complete Agentic AI Engineering Course\\nJanuary 23, 2025\\nLLM Workshop – Hands-on with Agents – resources\\nDecember 21, 2024\\nWelcome, SuperDataScientists!\\nNovember 13, 2024\\nMastering AI and LLM Engineering – Resources\\nNavigation\\nHome\\nConnect Four\\nOutsmart\\nAn arena that pits LLMs against each other in a battle of diplomacy and deviousness\\nAbout\\nPosts\\nGet in touch\\ned [at] edwarddonner [dot] com\\nwww.edwarddonner.com\\nFollow me\\nLinkedIn\\nTwitter\\nFacebook\\nSubscribe to newsletter\\nType your email…\\nSubscribe'}]"
      ]
     },
     "execution_count": 19,
     "metadata": {},
     "output_type": "execute_result"
    }
   ],
   "source": [
    "message_for(ed)"
   ]
  },
  {
   "cell_type": "code",
   "execution_count": 20,
   "id": "dfdf0170",
   "metadata": {},
   "outputs": [],
   "source": [
    "def summarize(url):\n",
    "    website = Website(url)\n",
    "    response = openai.chat.completions.create(\n",
    "        model=\"gpt-4o-mini\",\n",
    "        messages=message_for(website)\n",
    "    )\n",
    "\n",
    "    return response.choices[0].message.content"
   ]
  },
  {
   "cell_type": "code",
   "execution_count": 24,
   "id": "6d1a44d1",
   "metadata": {},
   "outputs": [
    {
     "data": {
      "text/markdown": [
       "# Summary of Edward Donner's Website\n",
       "\n",
       "Edward Donner's personal website showcases his interests and professional endeavors. He is a technology enthusiast, particularly in the field of artificial intelligence and large language models (LLMs). As the co-founder and CTO of Nebula.io, he focuses on leveraging AI to enhance talent discovery and management, providing tools for recruiters. Previously, he founded the startup untapt, which was acquired in 2021.\n",
       "\n",
       "In addition to his tech work, Ed has a passion for DJing, electronic music production, and engaging with the tech community through platforms like Hacker News.\n",
       "\n",
       "## Recent Posts\n",
       "- **April 21, 2025**: Announcement of \"The Complete Agentic AI Engineering Course\".\n",
       "- **January 23, 2025**: Information about an \"LLM Workshop – Hands-on with Agents\", including available resources.\n",
       "- **December 21, 2024**: Welcome message to \"SuperDataScientists\".\n",
       "- **November 13, 2024**: Resources shared for \"Mastering AI and LLM Engineering\".\n",
       "\n",
       "The website also encourages visitors to connect with Ed through various social platforms and a newsletter subscription."
      ],
      "text/plain": [
       "<IPython.core.display.Markdown object>"
      ]
     },
     "metadata": {},
     "output_type": "display_data"
    }
   ],
   "source": [
    "display(Markdown(summarize(\"https://edwarddonner.com\")))"
   ]
  },
  {
   "cell_type": "code",
   "execution_count": 25,
   "id": "eb786d00",
   "metadata": {},
   "outputs": [
    {
     "data": {
      "text/markdown": [
       "# CNN Website Summary\n",
       "\n",
       "CNN provides a comprehensive platform for breaking news, latest updates, and videos across various categories including US and world news, politics, business, health, entertainment, sports, and more. The website emphasizes real-time reporting and analysis on significant global events, including:\n",
       "\n",
       "## Recent News Highlights\n",
       "- **Aid Ship Incident**: An aid ship bound for Gaza catches fire after an alleged Israeli drone attack.\n",
       "- **Trump's Tariffs**: Recent tariffs imposed by Trump are poised to affect millions of Americans, especially regarding shipping exemptions and pricing on goods.\n",
       "- **Ukraine-Russia War**: Continuous updates reflect the ongoing conflict, including a recent minerals deal signed by the US with Kyiv amid projections that the war will not end soon.\n",
       "- **Cultural Events**: The world mourns the passing of Inah Canabarro Lucas, the world’s oldest person, who lived to 116 years old.\n",
       "\n",
       "## Key Features\n",
       "- **Live Updates**: The site includes a section for live updates on breaking news.\n",
       "- **Multimedia Content**: Users can access videos and articles analyzing current events, stock market trends, and significant political developments.\n",
       "- **Global Perspectives**: Content explores stories from various regions, providing insight into international affairs, cultural shifts, and scientific advancements.\n",
       "\n",
       "CNN aims to keep its audience informed with the latest developments and offers an array of topics for readers to explore, reinforcing its role as a leading news source."
      ],
      "text/plain": [
       "<IPython.core.display.Markdown object>"
      ]
     },
     "metadata": {},
     "output_type": "display_data"
    }
   ],
   "source": [
    "display(Markdown(summarize(\"https://cnn.com\")))"
   ]
  },
  {
   "cell_type": "code",
   "execution_count": 28,
   "id": "25b5ad80",
   "metadata": {},
   "outputs": [
    {
     "name": "stdout",
     "output_type": "stream",
     "text": [
      "# Website Summary for Anthropic\n",
      "\n",
      "The Anthropic website primarily focuses on its flagship AI model, Claude, showcasing its capabilities, pricing plans, and various applications. Key sections of the site include:\n",
      "\n",
      "- **Claude Overview**: Introduction to Claude and its various iterations (like Claude 3.7 Sonnet), highlighting its advanced capabilities and responsible AI design.\n",
      "- **API**: Resources for developers to build applications with Claude, including API documentation and pricing.\n",
      "- **Solutions**: Information on how Claude can assist in different domains such as AI agents, coding, and customer support.\n",
      "- **Research**: Insights into the company's research initiatives concerning AI safety, impacts, and transparency. Notable mentioned topics include the Claude Economic Index and interpretability.\n",
      "- **Learning Resources**: The Anthropic Academy offers tutorials on utilizing Claude effectively.\n",
      "- **Responsible AI Development**: An emphasis on creating AI technologies with human benefit in mind and maintaining transparency in the development process.\n",
      "\n",
      "## Recent Announcements\n",
      "- **ISO 42001 Certification**: An announcement regarding achieving certification in responsible AI practices.\n",
      "- **Claude 3.7 Sonnet Launch**: Announcement of the release of the latest iteration of Claude, touted as the most intelligent AI model yet.\n",
      "\n",
      "Anthropic positions itself as a leader in developing AI with a focus on safety and long-term societal benefits.\n"
     ]
    }
   ],
   "source": [
    "print(summarize(\"https://anthropic.com\"))"
   ]
  },
  {
   "cell_type": "code",
   "execution_count": 26,
   "id": "5d898ecb",
   "metadata": {},
   "outputs": [
    {
     "data": {
      "text/markdown": [
       "# Summary of the Anthropic Website\n",
       "\n",
       "The Anthropic website primarily focuses on their AI product, Claude, emphasizing safe and responsible AI development. Key highlights include:\n",
       "\n",
       "## AI Products and Features\n",
       "- **Claude 3.7 Sonnet**: The latest iteration of their intelligent AI model is presented as the most advanced version available for use.\n",
       "- **API Opportunities**: Users can build AI-powered applications and experiences using Claude through a comprehensive API.\n",
       "\n",
       "## Research and Development\n",
       "- Anthropic prioritizes the long-term well-being of humanity in the development of AI, advocating for responsible technology design.\n",
       "- **Recent Research Topics**:\n",
       "  - Tracing thoughts of large language models.\n",
       "  - The Anthropic Economic Index and societal impacts.\n",
       "  - Discussions on AI alignment and interpretability.\n",
       "\n",
       "## News and Announcements\n",
       "- The site announces **ISO 42001 certification**, marking a commitment to safety and compliance in AI practices.\n",
       "\n",
       "## Education and Resources\n",
       "- The **Anthropic Academy** offers learning resources to help users build with Claude effectively.\n",
       "\n",
       "With a clear focus on advancing AI technologies safely, Anthropic aims to provide tools that prioritize human benefit and address societal concerns related to AI advancements."
      ],
      "text/plain": [
       "<IPython.core.display.Markdown object>"
      ]
     },
     "metadata": {},
     "output_type": "display_data"
    }
   ],
   "source": [
    "display(Markdown(summarize(\"https://anthropic.com\")))"
   ]
  }
 ],
 "metadata": {
  "kernelspec": {
   "display_name": ".venv-llm-practical",
   "language": "python",
   "name": ".venv-llm-practical"
  },
  "language_info": {
   "codemirror_mode": {
    "name": "ipython",
    "version": 3
   },
   "file_extension": ".py",
   "mimetype": "text/x-python",
   "name": "python",
   "nbconvert_exporter": "python",
   "pygments_lexer": "ipython3",
   "version": "3.13.1"
  }
 },
 "nbformat": 4,
 "nbformat_minor": 5
}
